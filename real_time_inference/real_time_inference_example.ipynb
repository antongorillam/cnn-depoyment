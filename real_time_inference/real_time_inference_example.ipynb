{
 "cells": [
  {
   "cell_type": "markdown",
   "id": "b374a674-26d5-4b5f-9557-9230110b0632",
   "metadata": {},
   "source": [
    "# Real-time inference example\n",
    "\n",
    "This notebook will act as a template to deploy a very simple *CNN* model to AWS. It consist broadly of these steps:\n",
    "1. Package the CNN model and some dependencies as a `.tar.gz` file.\n",
    "2. Upload said `.tar.gz` file to the cloud.\n",
    "3. Use the `sagemaker.pytorch.PyTorchModel` to initlize a `model` which will be deployed.\n",
    "4. Deploy said the model with `model.deploy`, and try it out with predict"
   ]
  },
  {
   "cell_type": "code",
   "execution_count": 36,
   "id": "270ea2a3-90d0-47e2-8eba-e9c4f9b03558",
   "metadata": {
    "tags": []
   },
   "outputs": [],
   "source": [
    "import sagemaker\n",
    "from sagemaker.pytorch import PyTorchModel\n",
    "import tarfile"
   ]
  },
  {
   "cell_type": "code",
   "execution_count": 37,
   "id": "95e4501c-ab50-43d6-bb20-056858d8a55a",
   "metadata": {
    "tags": []
   },
   "outputs": [
    {
     "name": "stdout",
     "output_type": "stream",
     "text": [
      "Execution roll arn:aws:iam::296862834425:role/service-role/AmazonSageMaker-ExecutionRole-20230321T182690\n"
     ]
    }
   ],
   "source": [
    "# Define the name of the S3 bucket where the model will be stored\n",
    "model_bucket = 'blankt-master-thesis-superresolution'\n",
    "# Define the key (or path) to the model within the S3 bucket\n",
    "model_key = 'model'\n",
    "\n",
    "# Create an instance of the SageMaker session and get the execution role for the notebook instance\n",
    "sagemaker_session = sagemaker.Session()\n",
    "sagemaker_role = sagemaker.get_execution_role()\n",
    "print(f'Execution roll {sagemaker_role}')"
   ]
  },
  {
   "cell_type": "markdown",
   "id": "89da1ed7-46a2-4f2a-86ba-ad3668caa44d",
   "metadata": {},
   "source": [
    "## Create the `.tar.gz` file\n",
    "\n",
    "**`model.pt`**: Is the saved pytorch model, a very simple CNN trained on MNIST in our case.\n",
    "\n",
    "**`inference.py`**: The logic of the model. Many of these functions are standardized for Sagemaker.\n",
    "\n",
    "**`cnn.py`**: The architecture of the network, must match `model.pt`. Does not need to be included here, but can be packed in later.\n",
    "\n",
    "The structure of the file will look like this:\n",
    "\n",
    "```bash\n",
    "./\n",
    "├── model.pt\n",
    "├── inference.py\n",
    "└── code/\n",
    "    ├── requirements.txt\n",
    "    └── cnn.py\n",
    "```"
   ]
  },
  {
   "cell_type": "code",
   "execution_count": 38,
   "id": "19a11ffc-3a8b-4381-a3c4-92849592f628",
   "metadata": {
    "tags": []
   },
   "outputs": [],
   "source": [
    "with tarfile.open('model.tar.gz', 'w:gz') as archive:\n",
    "    archive.add('model_zoo/model.pt', arcname='model.pt')\n",
    "    archive.add('inference.py')\n",
    "    archive.add('code/requirements.txt')\n",
    "    archive.close()"
   ]
  },
  {
   "cell_type": "markdown",
   "id": "7fd936fc-f739-4649-a436-05ab0d90844e",
   "metadata": {
    "tags": []
   },
   "source": [
    "## Upload the model to the **S3**-bucket.\n",
    "\n",
    "You can put the code wherever you want on the S3-bucket, just make sure you put that path when deploying the model."
   ]
  },
  {
   "cell_type": "code",
   "execution_count": 39,
   "id": "d3ab84b6-9a2c-45ab-b29e-2b330e660793",
   "metadata": {
    "tags": []
   },
   "outputs": [
    {
     "name": "stdout",
     "output_type": "stream",
     "text": [
      "input spec (in this case, just an S3 path): s3://blankt-master-thesis-superresolution/model/model.tar.gz\n"
     ]
    }
   ],
   "source": [
    "s3_path = sagemaker_session.upload_data(\n",
    "    path=f\"{model_key}.tar.gz\",\n",
    "    bucket=model_bucket,\n",
    "    key_prefix=f'{model_key}')\n",
    "print(\"input spec (in this case, just an S3 path): {}\".format(s3_path))"
   ]
  },
  {
   "cell_type": "markdown",
   "id": "2687fc6c-0d54-494e-992e-e85aa77811fe",
   "metadata": {},
   "source": [
    "## Deploying the model\n",
    "\n",
    "First snippet of code is defining the condiguration of the model."
   ]
  },
  {
   "cell_type": "code",
   "execution_count": 40,
   "id": "7665663f-4425-45f6-9af4-f2d791d15dbf",
   "metadata": {
    "tags": []
   },
   "outputs": [],
   "source": [
    "model = PyTorchModel(\n",
    "    model_data=s3_path,  # Path to the model artifacts in Amazon S3\n",
    "    role=sagemaker_role,  # IAM role used by SageMaker to access AWS resources\n",
    "    entry_point='inference.py',  # Entry point script for inference\n",
    "    source_dir='code',  # Directory containing the CNN model and requirement.txt file\n",
    "    framework_version=\"1.5.0\",  # Version of the PyTorch framework\n",
    "    py_version='py3'  # Version of Python\n",
    "    )"
   ]
  },
  {
   "cell_type": "code",
   "execution_count": 41,
   "id": "808910bb-8a3f-40ed-8ce0-0cd55ec3d047",
   "metadata": {
    "tags": []
   },
   "outputs": [
    {
     "name": "stdout",
     "output_type": "stream",
     "text": [
      "-----!\n",
      "Deploying model took 00:03:02.\n"
     ]
    }
   ],
   "source": [
    "import time\n",
    "from datetime import datetime, timedelta\n",
    "from sagemaker.deserializers import JSONDeserializer\n",
    "from sagemaker.serializers import JSONSerializer\n",
    "from datetime import datetime\n",
    "\n",
    "time_stamp = datetime.now().strftime(\"%y-%m-%d-%H-%M-%S\")  # Get the current timestamp\n",
    "\n",
    "start_time = time.perf_counter()  # Start the timer\n",
    "\n",
    "\n",
    "predictor = model.deploy(\n",
    "    endpoint_name=f\"cnn-realtime-inference-{time_stamp}\",  # Set the name of the endpoint with a timestamp\n",
    "    instance_type='ml.m4.xlarge',  # Set the instance type for deployment\n",
    "    initial_instance_count=1,  # Set the initial number of instances to run the endpoint\n",
    "    serializer=JSONSerializer(),  # Set the serializer for input data as JSON\n",
    "    deserializer=JSONDeserializer()  # Set the deserializer for JSON responses\n",
    ")\n",
    "\n",
    "# Calculate the time elapsed for deployment\n",
    "time_elapsed = time.perf_counter() - start_time  \n",
    "timedelta(0, seconds=65)  \n",
    "time_string = timedelta(0, seconds=time_elapsed)\n",
    "time_string = time.strftime('%H:%M:%S', time.gmtime(time_string.seconds))\n",
    "print(f\"\\nDeploying model took {str(time_string)}.\")"
   ]
  },
  {
   "cell_type": "markdown",
   "id": "0adb93c8-8f3f-40a2-a57a-d813522fee88",
   "metadata": {},
   "source": [
    "## Fetch MNIST data for testing the model"
   ]
  },
  {
   "cell_type": "code",
   "execution_count": 42,
   "id": "8d06f0bb-e52d-4f04-97b8-ac4818a0efe5",
   "metadata": {
    "tags": []
   },
   "outputs": [
    {
     "name": "stdout",
     "output_type": "stream",
     "text": [
      "Looking in indexes: https://pypi.org/simple, https://pip.repos.neuron.amazonaws.com\n",
      "Requirement already satisfied: python-mnist in /home/ec2-user/anaconda3/envs/amazonei_pytorch_latest_p37/lib/python3.7/site-packages (0.7)\n"
     ]
    }
   ],
   "source": [
    "!pip install python-mnist\n",
    "from mnist import MNIST\n",
    "import numpy as np\n",
    "import matplotlib.pyplot as plt\n",
    "\n",
    "# Loading the MNIST dataset\n",
    "mndata = MNIST('../mnist')\n",
    "test_images, test_labels = mndata.load_testing()\n",
    "test_images, test_labels = np.array(test_images), np.array(test_labels)"
   ]
  },
  {
   "cell_type": "markdown",
   "id": "7fb726dc-5140-4998-a5ad-1f53282da7d0",
   "metadata": {},
   "source": [
    "## Make predition with our CNN classifier\n",
    "\n",
    "The following code snippet takes a random sample from MNIST and uses it our model `predictior`. \n",
    "\n",
    "Note that the classifier is only 98% correct, which means that it can be wrong sometimes, so try re-runing the below snippet a couple of times!"
   ]
  },
  {
   "cell_type": "code",
   "execution_count": 43,
   "id": "d64de382-698f-4353-b934-aaed5f40a29f",
   "metadata": {
    "tags": []
   },
   "outputs": [
    {
     "name": "stdout",
     "output_type": "stream",
     "text": [
      "Predicted 8, true label was 8\n"
     ]
    },
    {
     "data": {
      "image/png": "[encoded data removed]",
      "text/plain": [
       "<Figure size 640x480 with 1 Axes>"
      ]
     },
     "metadata": {},
     "output_type": "display_data"
    }
   ],
   "source": [
    "IMG_DIM = 28  # The dimension of the images\n",
    "\n",
    "img_idx = np.random.randint(len(test_images))  # Generate a random index to select a test image\n",
    "\n",
    "result_raw = predictor.predict({'inputs': test_images[img_idx].reshape(1, 1, IMG_DIM, IMG_DIM).tolist()})  # Make a prediction on the selected image\n",
    "result = np.argmax(result_raw)  # Extract the predicted label from the prediction result\n",
    "true_label = test_labels[img_idx]  # Get the true label for the selected image\n",
    "\n",
    "print(f'Predicted {result}, true label was {true_label}')  # Print the predicted and true labels\n",
    "\n",
    "plt.imshow(test_images[img_idx].reshape(IMG_DIM, IMG_DIM))  # Display the selected image\n",
    "plt.show()"
   ]
  },
  {
   "cell_type": "markdown",
   "id": "cc387b7b-46a9-48b1-8a31-62ae8275b14e",
   "metadata": {},
   "source": [
    "## Clean-up, as this notebook is only for demonstration purposes"
   ]
  },
  {
   "cell_type": "code",
   "execution_count": 44,
   "id": "ebb15abe-4e44-4aeb-8f1a-440a117676c1",
   "metadata": {
    "tags": []
   },
   "outputs": [
    {
     "name": "stdout",
     "output_type": "stream",
     "text": [
      "Predictor \"cnn-realtime-inference-23-07-01-12-10-07\" deleted.\n",
      "Model \"pytorch-inference-2023-07-01-12-10-08-551\" deleted.\n"
     ]
    }
   ],
   "source": [
    "try:\n",
    "    predictor.delete_endpoint()\n",
    "    print(f'Predictor \"{predictor.endpoint_name}\" deleted.')\n",
    "except:\n",
    "    print(f'Predictor \"{predictor.endpoint_name}\" does not exist.')\n",
    "\n",
    "try:\n",
    "    model.delete_model()\n",
    "    print(f'Model \"{model.name}\" deleted.')\n",
    "except:\n",
    "    print(f'Model \"{model.name}\" does not exist.')"
   ]
  },
  {
   "cell_type": "code",
   "execution_count": null,
   "id": "66dfd7a8-f50e-452d-ad84-2e27a771e9a5",
   "metadata": {},
   "outputs": [],
   "source": []
  }
 ],
 "metadata": {
  "kernelspec": {
   "display_name": "conda_amazonei_pytorch_latest_p37",
   "language": "python",
   "name": "conda_amazonei_pytorch_latest_p37"
  },
  "language_info": {
   "codemirror_mode": {
    "name": "ipython",
    "version": 3
   },
   "file_extension": ".py",
   "mimetype": "text/x-python",
   "name": "python",
   "nbconvert_exporter": "python",
   "pygments_lexer": "ipython3",
   "version": "3.7.10"
  }
 },
 "nbformat": 4,
 "nbformat_minor": 5
}
